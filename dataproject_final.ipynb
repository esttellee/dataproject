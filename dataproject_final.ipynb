{
  "nbformat": 4,
  "nbformat_minor": 0,
  "metadata": {
    "colab": {
      "provenance": []
    },
    "kernelspec": {
      "name": "python3",
      "display_name": "Python 3"
    },
    "language_info": {
      "name": "python"
    }
  },
  "cells": [
    {
      "cell_type": "markdown",
      "source": [
        "**scrapping IMBD top 250**"
      ],
      "metadata": {
        "id": "rd0-66-5aUVc"
      }
    },
    {
      "cell_type": "code",
      "source": [],
      "metadata": {
        "id": "8RjkBx5r1GPs"
      },
      "execution_count": null,
      "outputs": []
    },
    {
      "cell_type": "code",
      "execution_count": 1,
      "metadata": {
        "id": "WyoB59TCYuxM",
        "colab": {
          "base_uri": "https://localhost:8080/"
        },
        "outputId": "6d4b5f56-3c4b-457e-fc2f-f24d8e5cf5f9"
      },
      "outputs": [
        {
          "output_type": "stream",
          "name": "stdout",
          "text": [
            "                        title  year  rating      genre              director  \\\n",
            "0    The Shawshank Redemption  1994     9.2      Drama        Frank Darabont   \n",
            "1               The Godfather  1972     9.2      Crime  Francis Ford Coppola   \n",
            "2             The Dark Knight  2008     9.0     Action     Christopher Nolan   \n",
            "3       The Godfather Part II  1974     9.0      Crime  Francis Ford Coppola   \n",
            "4                12 Angry Men  1957     9.0      Crime          Sidney Lumet   \n",
            "..                        ...   ...     ...        ...                   ...   \n",
            "245             Life of Brian  1979     8.0     Comedy           Terry Jones   \n",
            "246            The Iron Giant  1999     8.0  Animation             Brad Bird   \n",
            "247                  The Help  2011     8.0      Drama           Tate Taylor   \n",
            "248                   Aladdin  1992     8.0  Animation          Ron Clements   \n",
            "249        Dances with Wolves  1990     8.0  Adventure         Kevin Costner   \n",
            "\n",
            "    director get a golden globes ?  \\\n",
            "0                             [no]   \n",
            "1                            [yes]   \n",
            "2                             [no]   \n",
            "3                            [yes]   \n",
            "4                            [yes]   \n",
            "..                             ...   \n",
            "245                           [no]   \n",
            "246                           [no]   \n",
            "247                           [no]   \n",
            "248                           [no]   \n",
            "249                          [yes]   \n",
            "\n",
            "                                                 actor  \\\n",
            "0                                     [Morgan Freeman]   \n",
            "1                                          [Al Pacino]   \n",
            "2    [Christian Bale, Gary Oldman, Morgan Freeman, ...   \n",
            "3                          [Al Pacino, Robert De Niro]   \n",
            "4                                                   []   \n",
            "..                                                 ...   \n",
            "245                                                 []   \n",
            "246                                       [Vin Diesel]   \n",
            "247  [Emma Stone, Bryce Dallas Howard, Jessica Chas...   \n",
            "248                                   [Robin Williams]   \n",
            "249                                    [Kevin Costner]   \n",
            "\n",
            "     how many famous actors are in it?  \n",
            "0                                    1  \n",
            "1                                    1  \n",
            "2                                    4  \n",
            "3                                    2  \n",
            "4                                    0  \n",
            "..                                 ...  \n",
            "245                                  0  \n",
            "246                                  1  \n",
            "247                                  3  \n",
            "248                                  1  \n",
            "249                                  1  \n",
            "\n",
            "[250 rows x 8 columns]\n"
          ]
        }
      ],
      "source": [
        "from bs4 import BeautifulSoup\n",
        "import requests\n",
        "from pprint import pprint\n",
        "from urllib.request import Request, urlopen\n",
        "\n",
        "url = 'https://www.imdb.com/chart/top/?ref_=nv_mv_250'\n",
        "\n",
        "response = requests.get(url)\n",
        "html = response.text\n",
        "soup = BeautifulSoup(html, 'html.parser')\n",
        "\n",
        "titles = soup.find_all('td', class_='titleColumn')\n",
        "\n",
        "\n",
        "#récupere la liste des acteurs connus\n",
        "list_actors_famous = []\n",
        "for page in range(1, 21):\n",
        "    url_actor_star = f'https://www.allocine.fr/personne/top/les-plus-vues/ever/?page={page}'\n",
        "    #le f sert à formater l'URL\n",
        "    response_actor = requests.get(url_actor_star)\n",
        "    actor_soup = BeautifulSoup(response_actor.content, 'html.parser')\n",
        "    actors_famous = actor_soup.find_all('a', class_= \"meta-title-link\")\n",
        "  \n",
        "\n",
        "#mettre tous les acteurs scrapper dans une liste   \n",
        "    for actor in actors_famous:\n",
        "        actor_star = actor.text.strip()\n",
        "        list_actors_famous.append(actor_star)\n",
        "\n",
        "\n",
        "#récupérer la liste  des réalisateurs avec un golden \n",
        "list_director_famous = []\n",
        "url_director_famous = f'https://www.allocine.fr/festivals/festival-118/palmares/prix-18350635/'\n",
        "response_director = requests.get(url_director_famous)\n",
        "director_soup = BeautifulSoup(response_director.content, 'html.parser')\n",
        "director_famous = director_soup.find_all('a', href=lambda href: href and '/personne/fichepersonne_gen_cpersonne=' in href)\n",
        "\n",
        "for director in director_famous:\n",
        "  director_star = director.text.strip()\n",
        "  list_director_famous.append(director_star)\n",
        "\n",
        "import pandas as pd\n",
        "\n",
        "#Initialiser une liste vide pour stocker les dictionnaires des films\n",
        "movies_list = []\n",
        "\n",
        "\n",
        "#scrapper les infos\n",
        "for title in titles:\n",
        "    movie_title = title.a.text\n",
        "    movie_year = title.span.text.strip('()')\n",
        "    ratings = title.find_next_sibling('td', class_= 'ratingColumn')\n",
        "    \n",
        " #aller scrapper sur les pages de chaque film\n",
        "    movie_url = 'https://www.imdb.com' + title.a['href']\n",
        "    req = Request(\n",
        "    url=movie_url, \n",
        "    headers={'User-Agent': 'Mozilla/5.0'}\n",
        "    )\n",
        "    \n",
        "    movie_response = urlopen(req).read()\n",
        "    movie_soup = BeautifulSoup(movie_response, 'html.parser')\n",
        "    genre_span = movie_soup.find('span', {'class': 'ipc-chip__text'}).text.strip()\n",
        "        \n",
        "    director_movie = movie_soup.find('a', class_=\"ipc-metadata-list-item__list-content-item ipc-metadata-list-item__list-content-item--link\").text.strip()\n",
        "   \n",
        "    #créer une liste pour les réalisateurs en commun avec allociné \n",
        "    director_common = []  \n",
        "    #essayer de n'afficher que les réal avec golden\n",
        "    if director_movie in list_director_famous:\n",
        "        director_common.append(director_movie)\n",
        "\n",
        "    #créer une nouvelle liste pour stocker 'yes or no'\n",
        "    director_known = []     \n",
        "    #compter 1 si le director à eu un golden globes\n",
        "    common_director_count = len(director_common)\n",
        "\n",
        "    if common_director_count == 1:\n",
        "      director_known.append(\"yes\")\n",
        "    else:\n",
        "      director_known.append(\"no\")\n",
        "\n",
        "    \n",
        "    actors_list = movie_soup.find_all(\"a\", class_=\"sc-bfec09a1-1 fUguci\")\n",
        "    #créer une liste pour les acteurs en commun avec allociné\n",
        "    actors_common = []   \n",
        "    #essayer de n'afficher que les acteurs célèbres\n",
        "    for actor in actors_list:\n",
        "        actor_name = actor.text.strip()\n",
        "        if actor_name in list_actors_famous:\n",
        "            actors_common.append(actor_name)\n",
        "\n",
        "    common_actors_count = len(actors_common)\n",
        "    \n",
        "    movie_dict = {\n",
        "        'title': movie_title,\n",
        "        'year': movie_year,\n",
        "        'rating': float(ratings.text),\n",
        "        'genre':genre_span,\n",
        "        'director': director_movie,\n",
        "        'director get a golden globes ?': director_known,\n",
        "        'actor': actors_common,\n",
        "        'how many famous actors are in it?': common_actors_count\n",
        "    }\n",
        "    # Ajouter le dictionnaire du film à la liste\n",
        "    movies_list.append(movie_dict)\n",
        "\n",
        "\n",
        "# Créer un DataFrame à partir de la liste de dictionnaires\n",
        "df = pd.DataFrame(movies_list)\n",
        " \n",
        "print(df)\n"
      ]
    },
    {
      "cell_type": "code",
      "source": [],
      "metadata": {
        "id": "v6wpmgAHYtJG"
      },
      "execution_count": null,
      "outputs": []
    },
    {
      "cell_type": "markdown",
      "source": [
        "............................................................................................................................................................................................................................................"
      ],
      "metadata": {
        "id": "zaFKS8_IB8fv"
      }
    },
    {
      "cell_type": "markdown",
      "source": [
        "**Visualisation**\n"
      ],
      "metadata": {
        "id": "FHcF-12eaQcp"
      }
    },
    {
      "cell_type": "markdown",
      "source": [
        "genre et note moyenne"
      ],
      "metadata": {
        "id": "tkdBcfDe_18V"
      }
    },
    {
      "cell_type": "code",
      "source": [
        "import matplotlib.pyplot as plt\n",
        "\n",
        "# Grouper les films par genre, et appliquer des fonctions d'agrégation\n",
        "genres_agg = df.groupby('genre').agg({'title': 'count', 'rating': 'mean'})\n",
        "\n",
        "# Renommer les colonnes pour correspondre aux noms demandés\n",
        "genres_agg = genres_agg.rename(columns={'title': 'nombre de films', 'rating': 'note moyenne'})\n",
        "\n",
        "# Trier les résultats par note moyenne décroissante\n",
        "genres_agg = genres_agg.sort_values(by='note moyenne', ascending=False)\n",
        "\n",
        "# Afficher le tableau des résultats\n",
        "print(genres_agg.to_string(index=True))"
      ],
      "metadata": {
        "colab": {
          "base_uri": "https://localhost:8080/"
        },
        "id": "IKAp6qAjYzwN",
        "outputId": "bffaf992-b00b-411e-80f3-92cdde864539"
      },
      "execution_count": 2,
      "outputs": [
        {
          "output_type": "stream",
          "name": "stdout",
          "text": [
            "           nombre de films  note moyenne\n",
            "genre                                   \n",
            "Western                  1      8.400000\n",
            "Crime                   35      8.337143\n",
            "Action                  46      8.306522\n",
            "Mystery                  4      8.300000\n",
            "Horror                   4      8.250000\n",
            "Drama                   69      8.236232\n",
            "Animation               24      8.220833\n",
            "Biography               22      8.218182\n",
            "Comedy                  23      8.200000\n",
            "Adventure               21      8.180952\n",
            "Film-Noir                1      8.100000\n"
          ]
        }
      ]
    },
    {
      "cell_type": "code",
      "source": [
        "# Trier les résultats par nombre de films décroissant et afficher les 10 premiers\n",
        "top_genre = genres_agg.sort_values(by='nombre de films', ascending=False).head(10)\n",
        "\n",
        "# Afficher un graphique à barres du nombre de films et de la note moyenne par acteur\n",
        "ax = top_genre.plot(kind='bar', y='nombre de films', figsize=(15, 5))\n",
        "\n",
        "#creer un autre axe pour le rating\n",
        "ax2 = ax.twinx()\n",
        "\n",
        "# Créer un graphique à points pour la note moyenne\n",
        "ax2.scatter(x=top_genre.index, y=top_genre['note moyenne'], color='red', s=50)\n",
        "\n",
        "for index, row in top_genre.iterrows():\n",
        "    ax2.annotate(f\"{row['note moyenne']:.2f}\", (index, row['note moyenne']), xytext=(8, 6),\n",
        "                 textcoords='offset points', ha='center', color='black')\n",
        "plt.title('Nombre de films dans le top 250 et leur note moyenne par genre')\n",
        "\n",
        "# Afficher le graphique\n",
        "plt.show()"
      ],
      "metadata": {
        "colab": {
          "base_uri": "https://localhost:8080/",
          "height": 545
        },
        "id": "qmkGvc0saxBb",
        "outputId": "b373aba2-bb69-4443-e9bc-a878f599b2c1"
      },
      "execution_count": 3,
      "outputs": [
        {
          "output_type": "display_data",
          "data": {
            "text/plain": [
              "<Figure size 1500x500 with 2 Axes>"
            ],
            "image/png": "[encoded data removed]"
          },
          "metadata": {}
        }
      ]
    },
    {
      "cell_type": "markdown",
      "source": [
        "répartition films par genre"
      ],
      "metadata": {
        "id": "Eb0lj0D_BLWd"
      }
    },
    {
      "cell_type": "code",
      "source": [
        "# Trier les résultats par nombre de films décroissant et afficher les 10 premiers\n",
        "top_genre = genres_agg.sort_values(by='nombre de films', ascending=False).head(10)\n",
        "\n",
        "# Créer un graphique circulaire du nombre de films par genre\n",
        "plt.figure(figsize=(8, 8))\n",
        "plt.pie(top_genre['nombre de films'], labels=top_genre.index, autopct='%1.1f%%')\n",
        "plt.title('Répartition des films par genre')\n",
        "plt.show()\n"
      ],
      "metadata": {
        "colab": {
          "base_uri": "https://localhost:8080/",
          "height": 675
        },
        "id": "GfuBFQBFBOYj",
        "outputId": "a02eff18-763c-4da5-a971-2363b82ef8ae"
      },
      "execution_count": 4,
      "outputs": [
        {
          "output_type": "display_data",
          "data": {
            "text/plain": [
              "<Figure size 800x800 with 1 Axes>"
            ],
            "image/png": "[encoded data removed]"
          },
          "metadata": {}
        }
      ]
    },
    {
      "cell_type": "markdown",
      "source": [
        "année et note moyenne"
      ],
      "metadata": {
        "id": "sy3Aed6Z_9XG"
      }
    },
    {
      "cell_type": "code",
      "source": [
        "# Grouper les films par année, 10 ans, et appliquer des fonctions d'agrégation\n",
        "df['year'] = pd.to_numeric(df['year'])\n",
        "df['annee'] = (df['year'] // 10) * 10\n",
        "\n",
        "annee_agg = df.groupby('annee').agg({'title': 'count', 'rating': 'mean'})\n",
        "\n",
        "# Renommer les colonnes pour correspondre aux noms demandés\n",
        "annee_agg = annee_agg.rename(columns={'title': 'nombre de films', 'rating': 'note moyenne'})\n",
        "\n",
        "# Trier les résultats par note moyenne décroissante\n",
        "annee_agg = annee_agg.sort_values(by='note moyenne', ascending=False)\n",
        "\n",
        "# Afficher \n",
        "print(annee_agg.to_string(index=True))"
      ],
      "metadata": {
        "colab": {
          "base_uri": "https://localhost:8080/"
        },
        "id": "kyCCPCyOa4qb",
        "outputId": "686cacf2-7d58-44b0-c02e-5c97f16bd1fa"
      },
      "execution_count": 5,
      "outputs": [
        {
          "output_type": "stream",
          "name": "stdout",
          "text": [
            "       nombre de films  note moyenne\n",
            "annee                               \n",
            "1990                42      8.361905\n",
            "1970                18      8.288889\n",
            "2000                48      8.254167\n",
            "1980                26      8.242308\n",
            "1960                18      8.238889\n",
            "1950                23      8.234783\n",
            "2010                43      8.213953\n",
            "2020                 7      8.200000\n",
            "1940                12      8.191667\n",
            "1930                 7      8.171429\n",
            "1920                 6      8.116667\n"
          ]
        }
      ]
    },
    {
      "cell_type": "code",
      "source": [
        "# Trier les résultats par nombre année 10 ans et afficher les 10 premiers\n",
        "top_annee = annee_agg.sort_values(by='annee', ascending=False).head(10)\n",
        "\n",
        "# Afficher un graphique en ligne de la note moyenne\n",
        "ax = top_annee.plot(kind='line', y='note moyenne', figsize=(10, 6))\n",
        "\n",
        "# Ajouter les annotations des notes moyennes sur le graphique\n",
        "for index, row in top_annee.iterrows():\n",
        "    ax.annotate(f\"{row['note moyenne']:.2f}\", (index, row['note moyenne']), xytext=(8, 6),\n",
        "                 textcoords='offset points', ha='center', color='black')\n",
        "    \n",
        "plt.grid(True)\n",
        "plt.xticks(top_annee.index)\n",
        "plt.title('Evolution de la note moyenne par année')\n",
        "\n",
        "# Afficher le graphique\n",
        "plt.show()"
      ],
      "metadata": {
        "colab": {
          "base_uri": "https://localhost:8080/",
          "height": 565
        },
        "id": "aBnmnN9PckNC",
        "outputId": "a8c63c61-5f49-401f-a174-004ab74baa27"
      },
      "execution_count": 6,
      "outputs": [
        {
          "output_type": "display_data",
          "data": {
            "text/plain": [
              "<Figure size 1000x600 with 1 Axes>"
            ],
            "image/png": "[encoded data removed]"
          },
          "metadata": {}
        }
      ]
    },
    {
      "cell_type": "markdown",
      "source": [
        "directeur, nombre de film et rating\n"
      ],
      "metadata": {
        "id": "9hPNIYC0Aejx"
      }
    },
    {
      "cell_type": "code",
      "source": [
        "# Grouper les films par genre, et appliquer des fonctions d'agrégation\n",
        "director_agg = df.groupby('director').agg({'title': 'count', 'rating': 'mean'})\n",
        "\n",
        "# Renommer les colonnes pour correspondre aux noms demandés\n",
        "director_agg = director_agg.rename(columns={'title': 'nombre de films', 'rating': 'note moyenne'})\n",
        "\n",
        "# Trier les résultats par note moyenne décroissante\n",
        "director_agg = director_agg.sort_values(by='note moyenne', ascending=False)\n",
        "\n",
        "# Afficher le tableau des résultats\n",
        "print(director_agg.to_string(index=True))"
      ],
      "metadata": {
        "colab": {
          "base_uri": "https://localhost:8080/"
        },
        "id": "IPr1nJ56dnuh",
        "outputId": "1f845dc4-f21a-4af2-e9a4-1b635a63e930"
      },
      "execution_count": 7,
      "outputs": [
        {
          "output_type": "stream",
          "name": "stdout",
          "text": [
            "                                  nombre de films  note moyenne\n",
            "director                                                       \n",
            "Frank Darabont                                  2      8.900000\n",
            "Francis Ford Coppola                            3      8.866667\n",
            "Peter Jackson                                   3      8.800000\n",
            "Irvin Kershner                                  1      8.700000\n",
            "Lana Wachowski                                  1      8.700000\n",
            "Robert Zemeckis                                 2      8.650000\n",
            "Fernando Meirelles                              1      8.600000\n",
            "Roberto Benigni                                 1      8.600000\n",
            "Jonathan Demme                                  1      8.600000\n",
            "Joaquim Dos Santos                              1      8.600000\n",
            "Christopher Nolan                               7      8.528571\n",
            "Olivier Nakache                                 1      8.500000\n",
            "Luc Besson                                      1      8.500000\n",
            "Roger Allers                                    1      8.500000\n",
            "George Lucas                                    1      8.500000\n",
            "Isao Takahata                                   1      8.500000\n",
            "Damien Chazelle                                 1      8.500000\n",
            "Michael Curtiz                                  1      8.500000\n",
            "Sidney Lumet                                    2      8.500000\n",
            "Tony Kaye                                       1      8.500000\n",
            "Masaki Kobayashi                                1      8.500000\n",
            "Bryan Singer                                    1      8.500000\n",
            "David Fincher                                   3      8.466667\n",
            "Milos Forman                                    2      8.450000\n",
            "Sergio Leone                                    4      8.425000\n",
            "Florian Henckel von Donnersmarck                1      8.400000\n",
            "Giuseppe Tornatore                              1      8.400000\n",
            "Quentin Tarantino                               5      8.380000\n",
            "Steven Spielberg                                7      8.357143\n",
            "Anthony Russo                                   2      8.350000\n",
            "Ridley Scott                                    3      8.333333\n",
            "Michel Gondry                                   1      8.300000\n",
            "Gus Van Sant                                    1      8.300000\n",
            "Nadine Labaki                                   1      8.300000\n",
            "Lee Unkrich                                     2      8.300000\n",
            "Rajkumar Hirani                                 1      8.300000\n",
            "Makoto Shinkai                                  1      8.300000\n",
            "John Lasseter                                   1      8.300000\n",
            "Richard Marquand                                1      8.300000\n",
            "Darren Aronofsky                                1      8.300000\n",
            "Charles Chaplin                                 5      8.300000\n",
            "Bong Joon Ho                                    2      8.300000\n",
            "Bob Persichetti                                 1      8.300000\n",
            "Stanley Donen                                   1      8.300000\n",
            "Thomas Vinterberg                               1      8.300000\n",
            "Todd Phillips                                   1      8.300000\n",
            "Wolfgang Petersen                               1      8.300000\n",
            "Roman Polanski                                  2      8.300000\n",
            "Elem Klimov                                     1      8.300000\n",
            "Martin Scorsese                                 7      8.300000\n",
            "Billy Wilder                                    5      8.280000\n",
            "Stanley Kubrick                                 7      8.271429\n",
            "James Cameron                                   3      8.266667\n",
            "Andrew Stanton                                  2      8.250000\n",
            "Akira Kurosawa                                  6      8.250000\n",
            "Hayao Miyazaki                                  4      8.250000\n",
            "Sam Mendes                                      2      8.250000\n",
            "Frank Capra                                     3      8.233333\n",
            "Alfred Hitchcock                                6      8.233333\n",
            "Robert Mulligan                                 1      8.200000\n",
            "Vittorio De Sica                                1      8.200000\n",
            "Joseph L. Mankiewicz                            1      8.200000\n",
            "M. Night Shyamalan                              1      8.200000\n",
            "Peter Farrelly                                  1      8.200000\n",
            "Paul Thomas Anderson                            1      8.200000\n",
            "Michael Mann                                    1      8.200000\n",
            "Orson Welles                                    1      8.200000\n",
            "Mel Gibson                                      2      8.200000\n",
            "Stanley Kramer                                  1      8.200000\n",
            "Oliver Hirschbiegel                             1      8.200000\n",
            "Nitesh Tiwari                                   1      8.200000\n",
            "Thomas Kail                                     1      8.200000\n",
            "Aamir Khan                                      1      8.200000\n",
            "Joseph Kosinski                                 1      8.200000\n",
            "Jean-Pierre Jeunet                              1      8.200000\n",
            "John McTiernan                                  1      8.200000\n",
            "Fritz Lang                                      2      8.200000\n",
            "Asghar Farhadi                                  1      8.200000\n",
            "Brian De Palma                                  1      8.200000\n",
            "George Roy Hill                                 1      8.200000\n",
            "Florian Zeller                                  1      8.200000\n",
            "Guillermo del Toro                              1      8.200000\n",
            "Curtis Hanson                                   1      8.200000\n",
            "Park Chan-wook                                  2      8.150000\n",
            "Peter Weir                                      2      8.150000\n",
            "David Lean                                      2      8.150000\n",
            "Guy Ritchie                                     2      8.150000\n",
            "Denis Villeneuve                                2      8.150000\n",
            "Pete Docter                                     3      8.133333\n",
            "Clint Eastwood                                  3      8.133333\n",
            "Jon Watts                                       1      8.100000\n",
            "Elia Kazan                                      1      8.100000\n",
            "David Yates                                     1      8.100000\n",
            "Dean DeBlois                                    1      8.100000\n",
            "John Sturges                                    1      8.100000\n",
            "David Lynch                                     1      8.100000\n",
            "Ron Howard                                      2      8.100000\n",
            "Gavin O'Connor                                  1      8.100000\n",
            "Sergio Pablos                                   1      8.100000\n",
            "Damián Szifron                                  1      8.100000\n",
            "Clyde Bruckman                                  1      8.100000\n",
            "Steve McQueen                                   1      8.100000\n",
            "Carol Reed                                      1      8.100000\n",
            "Terry Gilliam                                   1      8.100000\n",
            "Buster Keaton                                   1      8.100000\n",
            "Wes Anderson                                    1      8.100000\n",
            "Yasujirô Ozu                                    1      8.100000\n",
            "Danny Boyle                                     1      8.100000\n",
            "Ethan Coen                                      1      8.100000\n",
            "George Miller                                   1      8.100000\n",
            "James Gunn                                      1      8.100000\n",
            "Adam Elliot                                     1      8.100000\n",
            "John Huston                                     1      8.100000\n",
            "Juan José Campanella                            1      8.100000\n",
            "Lenny Abrahamson                                1      8.100000\n",
            "John Carpenter                                  1      8.100000\n",
            "Majid Majidi                                    1      8.100000\n",
            "Jim Sheridan                                    1      8.100000\n",
            "Martin McDonagh                                 1      8.100000\n",
            "James McTeigue                                  1      8.100000\n",
            "Michael Cimino                                  1      8.100000\n",
            "Joel Coen                                       2      8.100000\n",
            "Henri-Georges Clouzot                           1      8.100000\n",
            "Ingmar Bergman                                  3      8.066667\n",
            "James Mangold                                   2      8.050000\n",
            "William Wyler                                   2      8.050000\n",
            "Richard Linklater                               2      8.050000\n",
            "Victor Fleming                                  2      8.050000\n",
            "Brad Bird                                       3      8.000000\n",
            "Carl Theodor Dreyer                             1      8.000000\n",
            "John G. Avildsen                                1      8.000000\n",
            "Kevin Costner                                   1      8.000000\n",
            "Tom McCarthy                                    1      8.000000\n",
            "Oliver Stone                                    1      8.000000\n",
            "Lasse Hallström                                 1      8.000000\n",
            "William Friedkin                                1      8.000000\n",
            "Alejandro G. Iñárritu                           1      8.000000\n",
            "François Truffaut                               1      8.000000\n",
            "Terry Jones                                     1      8.000000\n",
            "Tate Taylor                                     1      8.000000\n",
            "Terry George                                    1      8.000000\n",
            "Ron Clements                                    1      8.000000\n",
            "T.J. Gnanavel                                   1      8.000000\n",
            "Stuart Rosenberg                                1      8.000000\n",
            "John Ford                                       1      8.000000\n",
            "Gore Verbinski                                  1      8.000000\n",
            "Ernst Lubitsch                                  1      8.000000\n",
            "Gillo Pontecorvo                                1      8.000000\n",
            "Rob Reiner                                      1      8.000000\n",
            "Harold Ramis                                    1      8.000000\n",
            "Robert Wise                                     1      8.000000\n",
            "Sean Penn                                       1      8.000000\n",
            "Satyajit Ray                                    1      8.000000\n",
            "Mathieu Kassovitz                               1      8.000000\n",
            "Çagan Irmak                                     1      8.000000\n"
          ]
        }
      ]
    },
    {
      "cell_type": "code",
      "source": [
        "# Trier les résultats par nombre de films décroissant et afficher les 10 premiers\n",
        "top_director = director_agg.sort_values(by='nombre de films', ascending=False).head(10)\n",
        "\n",
        "# Afficher un graphique à barres du nombre de films et de la note moyenne par acteur\n",
        "ax = top_director.plot(kind='bar', y='nombre de films', figsize=(15, 5))\n",
        "\n",
        "#creer un autre axe pour le rating\n",
        "ax2 = ax.twinx()\n",
        "\n",
        "# Créer un graphique à points pour la note moyenne\n",
        "ax2.scatter(x=top_director.index, y=top_director['note moyenne'], color='red', s=50)\n",
        "\n",
        "for index, row in top_director.iterrows():\n",
        "    ax2.annotate(f\"{row['note moyenne']:.2f}\", (index, row['note moyenne']), xytext=(8, 6),\n",
        "                 textcoords='offset points', ha='center', color='black')\n",
        "    \n",
        "plt.title('Nombre de films dans le top 250 et note moyenne par réalisateur')\n",
        "# Afficher le graphique\n",
        "plt.show()"
      ],
      "metadata": {
        "colab": {
          "base_uri": "https://localhost:8080/",
          "height": 599
        },
        "id": "oayArifneRN0",
        "outputId": "443b1446-673b-40b4-df10-6d754a50fa81"
      },
      "execution_count": 8,
      "outputs": [
        {
          "output_type": "display_data",
          "data": {
            "text/plain": [
              "<Figure size 1500x500 with 2 Axes>"
            ],
            "image/png": "[encoded data removed]"
          },
          "metadata": {}
        }
      ]
    },
    {
      "cell_type": "markdown",
      "source": [
        "................................................................................................................................................................................................................................................"
      ],
      "metadata": {
        "id": "BebBA7SVEPNi"
      }
    },
    {
      "cell_type": "markdown",
      "source": [
        "**scrapping sortie IMBD**"
      ],
      "metadata": {
        "id": "Yw_2OJ3aCCMi"
      }
    },
    {
      "cell_type": "code",
      "source": [
        "url_sortie = \"https://www.imdb.com/calendar/?ref_=rlm&region=BE&type=MOVIE\"\n",
        "req = Request(\n",
        "url= url_sortie, \n",
        "headers={'User-Agent': 'Mozilla/5.0'}\n",
        ")\n",
        "    \n",
        "response_sortie = urlopen(req).read()\n",
        "sortie_soup = BeautifulSoup(response_sortie, 'html.parser')\n",
        "\n",
        "#scrapper les infos\n",
        "movie_sortie = sortie_soup.find_all('div', class_= \"ipc-metadata-list-summary-item__c\")\n",
        "\n",
        "#Initialiser une liste vide pour stocker les dictionnaires des films\n",
        "sorties_list = []\n",
        "\n",
        "#scrapper chaque infos duu films\n",
        "for movie in movie_sortie:\n",
        "    sortie_title = movie.find('a', class_= \"ipc-metadata-list-summary-item__t\").text.strip()\n",
        "    \n",
        "    movie_sortie_url = 'https://www.imdb.com' + movie.a['href']\n",
        "    req = Request(\n",
        "    url=movie_sortie_url, \n",
        "    headers={'User-Agent': 'Mozilla/5.0'}\n",
        "    )\n",
        "    \n",
        "    movie_sortie_response = urlopen(req).read()\n",
        "    sortie_soup = BeautifulSoup(movie_sortie_response, 'html.parser')\n",
        "    genre_sortie = sortie_soup.find('span', {'class': 'ipc-chip__text'}).text.strip()\n",
        "    director_sortie = sortie_soup.find('a', class_=\"ipc-metadata-list-item__list-content-item ipc-metadata-list-item__list-content-item--link\").text.strip()\n",
        "    \n",
        "    #créer une liste pour les réalisateurs en commun avec allociné \n",
        "    director_sortie_common = []  \n",
        "    #essayer de n'afficher que les réal avec golden\n",
        "    if director_sortie in list_director_famous:\n",
        "        director_sortie_common.append(director_sortie)\n",
        "\n",
        "    #créer une nouvelle liste pour stocker 'yes or no'\n",
        "    director_sortie_known = []     \n",
        "    #compter 1 si le director à eu un golden globes\n",
        "    common_director_sortie_count = len(director_sortie_common)\n",
        "\n",
        "    if common_director_sortie_count == 1:\n",
        "      director_sortie_known.append(\"yes\")\n",
        "    else:\n",
        "      director_sortie_known.append(\"no\")\n",
        "     \n",
        "    #scrapper les acteurs des films\n",
        "    actors_sortie_list = sortie_soup.find_all(\"a\", class_=\"sc-bfec09a1-1 fUguci\")\n",
        "    actors_common_sortie = []   \n",
        "    #essayer de n'afficher que les acteurs célèbres\n",
        "    for actor in actors_sortie_list:\n",
        "        actor_name_sortie = actor.text.strip()\n",
        "        if actor_name_sortie in list_actors_famous:\n",
        "            actors_common_sortie.append(actor_name_sortie)\n",
        "\n",
        "    common_actors_sortie_count = len(actors_common)\n",
        "    \n",
        "    movie_sortie = {\n",
        "        'title': sortie_title,\n",
        "        'genre':genre_sortie,\n",
        "        'director': director_sortie,\n",
        "        'director get a golden globes ?': director_sortie_known,\n",
        "        'actor': actors_common_sortie,\n",
        "        'how many famous actors are in it?': common_actors_sortie_count\n",
        "    }\n",
        "    \n",
        "    # Ajouter le dictionnaire du film à la liste\n",
        "    sorties_list.append(movie_sortie)\n",
        "\n",
        "\n",
        "# Créer un DataFrame à partir de la liste de dictionnaires\n",
        "df_sorties = pd.DataFrame(sorties_list)\n",
        " \n",
        "print(df_sorties)\n"
      ],
      "metadata": {
        "colab": {
          "base_uri": "https://localhost:8080/"
        },
        "id": "5s9WIeljCxJv",
        "outputId": "2cc67fd1-a8be-4f52-cdca-f2d4bb8f58c7"
      },
      "execution_count": null,
      "outputs": [
        {
          "output_type": "stream",
          "name": "stdout",
          "text": [
            "                                                title      genre  \\\n",
            "0          Spider-Man: Across the Spider-Verse (2023)  Animation   \n",
            "1                                The Boogeyman (2023)     Horror   \n",
            "2                            To Catch a Killer (2023)     Action   \n",
            "3             Transformers: Rise of the Beasts (2023)     Action   \n",
            "4                                       Strays (2023)  Animation   \n",
            "5                                Spinning Gold (2023)  Biography   \n",
            "6                                    The Flash (2023)     Action   \n",
            "7                              About My Father (2023)     Comedy   \n",
            "8                                    Elemental (2023)  Animation   \n",
            "9                                Asteroid City (2023)     Comedy   \n",
            "10                            No Hard Feelings (2023)     Comedy   \n",
            "11       Indiana Jones and the Dial of Destiny (2023)     Action   \n",
            "12                Ruby Gillman, Teenage Kraken (2023)  Animation   \n",
            "13                Harold and the Purple Crayon (2023)  Animation   \n",
            "14                     Insidious: The Red Door (2023)     Horror   \n",
            "15  Mission: Impossible - Dead Reckoning Part One ...     Action   \n",
            "16                            The Last Warrior (2021)  Animation   \n",
            "17                                 Oppenheimer (2023)  Biography   \n",
            "18                                      Barbie (2023)  Adventure   \n",
            "19                              Coyote v. Acme (2023)  Animation   \n",
            "20                             Haunted Mansion (2023)     Comedy   \n",
            "21                   How to Blow Up a Pipeline (2022)      Crime   \n",
            "22                       The Meg 2: The Trench (2023)     Action   \n",
            "23  Teenage Mutant Ninja Turtles: Mutant Mayhem (2...  Animation   \n",
            "24                                Gran Turismo (2023)     Action   \n",
            "25                            The Inseparables (2023)  Animation   \n",
            "26                                 Blue Beetle (2023)     Action   \n",
            "27                             The Equalizer 3 (2023)     Action   \n",
            "28                  My Big Fat Greek Wedding 3 (2023)     Comedy   \n",
            "29                           The Expendables 4 (2023)     Action   \n",
            "30                                         Wil (2023)      Drama   \n",
            "31                           Kraven the Hunter (2023)     Action   \n",
            "32                                       Spray (2023)     Action   \n",
            "33                PAW Patrol: The Mighty Movie (2023)  Animation   \n",
            "34                              Herseye Ragmen (2022)      Drama   \n",
            "35                        Trolls Band Together (2023)  Animation   \n",
            "36                                       Saw X (2023)     Horror   \n",
            "37                              Dune: Part Two (2023)     Action   \n",
            "38  The Hunger Games: The Ballad of Songbirds and ...     Action   \n",
            "39                                        Wish (2023)  Animation   \n",
            "40                                   Migration (2023)  Animation   \n",
            "41                                       Wonka (2023)  Adventure   \n",
            "42                Aquaman and the Lost Kingdom (2023)     Action   \n",
            "43                         Ghostbusters Sequel (2023)  Adventure   \n",
            "44                                  Night Swim (2024)     Horror   \n",
            "45            Captain America: New World Order (2024)     Action   \n",
            "\n",
            "                 director director get a golden globes ?  \\\n",
            "0      Joaquim Dos Santos                           [no]   \n",
            "1              Rob Savage                           [no]   \n",
            "2          Damián Szifron                           [no]   \n",
            "3        Steven Caple Jr.                           [no]   \n",
            "4          Josh Greenbaum                           [no]   \n",
            "5    Timothy Scott Bogart                           [no]   \n",
            "6         Andy Muschietti                           [no]   \n",
            "7           Laura Terruso                           [no]   \n",
            "8              Peter Sohn                           [no]   \n",
            "9            Wes Anderson                           [no]   \n",
            "10        Gene Stupnitsky                           [no]   \n",
            "11          James Mangold                           [no]   \n",
            "12           Kirk DeMicco                           [no]   \n",
            "13        Carlos Saldanha                           [no]   \n",
            "14         Patrick Wilson                           [no]   \n",
            "15  Christopher McQuarrie                           [no]   \n",
            "16              Leon Ding                           [no]   \n",
            "17      Christopher Nolan                           [no]   \n",
            "18           Greta Gerwig                           [no]   \n",
            "19             Dave Green                           [no]   \n",
            "20          Justin Simien                           [no]   \n",
            "21       Daniel Goldhaber                           [no]   \n",
            "22           Ben Wheatley                           [no]   \n",
            "23              Jeff Rowe                           [no]   \n",
            "24         Neill Blomkamp                           [no]   \n",
            "25       Jérémie Degruson                           [no]   \n",
            "26      Angel Manuel Soto                           [no]   \n",
            "27          Antoine Fuqua                           [no]   \n",
            "28           Nia Vardalos                           [no]   \n",
            "29            Scott Waugh                           [no]   \n",
            "30           Tim Mielants                           [no]   \n",
            "31           J.C. Chandor                           [no]   \n",
            "32            Meg Leonard                           [no]   \n",
            "33            Cal Brunker                           [no]   \n",
            "34      Erdal Murat Aktas                           [no]   \n",
            "35             Walt Dohrn                           [no]   \n",
            "36         Kevin Greutert                           [no]   \n",
            "37       Denis Villeneuve                           [no]   \n",
            "38       Francis Lawrence                           [no]   \n",
            "39             Chris Buck                           [no]   \n",
            "40        Benjamin Renner                           [no]   \n",
            "41              Paul King                           [no]   \n",
            "42              James Wan                           [no]   \n",
            "43              Gil Kenan                           [no]   \n",
            "44          Bryce McGuire                           [no]   \n",
            "45            Julius Onah                           [no]   \n",
            "\n",
            "                                                actor  \\\n",
            "0                                       [Oscar Isaac]   \n",
            "1                                                  []   \n",
            "2                                  [Shailene Woodley]   \n",
            "3                                                  []   \n",
            "4                                                  []   \n",
            "5                                                  []   \n",
            "6                                       [Ben Affleck]   \n",
            "7                                    [Robert De Niro]   \n",
            "8                                                  []   \n",
            "9   [Scarlett Johansson, Tom Hanks, Bryan Cranston...   \n",
            "10                                [Jennifer Lawrence]   \n",
            "11                    [Harrison Ford, Mads Mikkelsen]   \n",
            "12                                                 []   \n",
            "13                                                 []   \n",
            "14                                                 []   \n",
            "15      [Tom Cruise, Rebecca Ferguson, Vanessa Kirby]   \n",
            "16                                                 []   \n",
            "17  [Cillian Murphy, Emily Blunt, Matt Damon, Robe...   \n",
            "18         [Margot Robbie, Ryan Gosling, Emma Mackey]   \n",
            "19                                                 []   \n",
            "20                         [Winona Ryder, Jared Leto]   \n",
            "21                                                 []   \n",
            "22                                    [Jason Statham]   \n",
            "23                                      [Jackie Chan]   \n",
            "24                                                 []   \n",
            "25                                                 []   \n",
            "26                                                 []   \n",
            "27                                [Denzel Washington]   \n",
            "28                                                 []   \n",
            "29                [Jason Statham, Sylvester Stallone]   \n",
            "30                                                 []   \n",
            "31                                    [Russell Crowe]   \n",
            "32                                                 []   \n",
            "33                                                 []   \n",
            "34                                                 []   \n",
            "35                                    [Anna Kendrick]   \n",
            "36                                                 []   \n",
            "37  [Timothée Chalamet, Zendaya, Rebecca Ferguson,...   \n",
            "38                                                 []   \n",
            "39                                       [Chris Pine]   \n",
            "40                                                 []   \n",
            "41                                [Timothée Chalamet]   \n",
            "42  [Jason Momoa, Ben Affleck, Nicole Kidman, Ambe...   \n",
            "43                                                 []   \n",
            "44                                                 []   \n",
            "45                                    [Harrison Ford]   \n",
            "\n",
            "    how many famous actors are in it?  \n",
            "0                                   1  \n",
            "1                                   1  \n",
            "2                                   1  \n",
            "3                                   1  \n",
            "4                                   1  \n",
            "5                                   1  \n",
            "6                                   1  \n",
            "7                                   1  \n",
            "8                                   1  \n",
            "9                                   1  \n",
            "10                                  1  \n",
            "11                                  1  \n",
            "12                                  1  \n",
            "13                                  1  \n",
            "14                                  1  \n",
            "15                                  1  \n",
            "16                                  1  \n",
            "17                                  1  \n",
            "18                                  1  \n",
            "19                                  1  \n",
            "20                                  1  \n",
            "21                                  1  \n",
            "22                                  1  \n",
            "23                                  1  \n",
            "24                                  1  \n",
            "25                                  1  \n",
            "26                                  1  \n",
            "27                                  1  \n",
            "28                                  1  \n",
            "29                                  1  \n",
            "30                                  1  \n",
            "31                                  1  \n",
            "32                                  1  \n",
            "33                                  1  \n",
            "34                                  1  \n",
            "35                                  1  \n",
            "36                                  1  \n",
            "37                                  1  \n",
            "38                                  1  \n",
            "39                                  1  \n",
            "40                                  1  \n",
            "41                                  1  \n",
            "42                                  1  \n",
            "43                                  1  \n",
            "44                                  1  \n",
            "45                                  1  \n"
          ]
        }
      ]
    },
    {
      "cell_type": "markdown",
      "source": [
        "......................................................................................................................................................................................"
      ],
      "metadata": {
        "id": "GfnbIW3o-_ng"
      }
    },
    {
      "cell_type": "markdown",
      "source": [
        "**Modelling**"
      ],
      "metadata": {
        "id": "r6YGiE2R-6_D"
      }
    },
    {
      "cell_type": "code",
      "source": [
        "import pandas as pd\n",
        "from sklearn.model_selection import train_test_split\n",
        "from sklearn.ensemble import RandomForestRegressor\n",
        "from sklearn.metrics import mean_squared_error"
      ],
      "metadata": {
        "id": "FduxUomASbW1"
      },
      "execution_count": null,
      "outputs": []
    },
    {
      "cell_type": "code",
      "source": [
        "df.head()"
      ],
      "metadata": {
        "colab": {
          "base_uri": "https://localhost:8080/",
          "height": 337
        },
        "id": "5p3RHd5w_Kv8",
        "outputId": "bf6ab5f5-1de6-4a80-ecfd-0aa204895ffa"
      },
      "execution_count": null,
      "outputs": [
        {
          "output_type": "execute_result",
          "data": {
            "text/plain": [
              "                      title  year  rating   genre              director  \\\n",
              "0  The Shawshank Redemption  1994     9.2   Drama        Frank Darabont   \n",
              "1             The Godfather  1972     9.2   Crime  Francis Ford Coppola   \n",
              "2           The Dark Knight  2008     9.0  Action     Christopher Nolan   \n",
              "3     The Godfather Part II  1974     9.0   Crime  Francis Ford Coppola   \n",
              "4              12 Angry Men  1957     9.0   Crime          Sidney Lumet   \n",
              "\n",
              "  director get a golden globes ?  \\\n",
              "0                           [no]   \n",
              "1                          [yes]   \n",
              "2                           [no]   \n",
              "3                          [yes]   \n",
              "4                          [yes]   \n",
              "\n",
              "                                               actor  \\\n",
              "0                                   [Morgan Freeman]   \n",
              "1                                        [Al Pacino]   \n",
              "2  [Christian Bale, Gary Oldman, Morgan Freeman, ...   \n",
              "3                        [Al Pacino, Robert De Niro]   \n",
              "4                                                 []   \n",
              "\n",
              "   how many famous actors are in it?  \n",
              "0                                  1  \n",
              "1                                  1  \n",
              "2                                  4  \n",
              "3                                  2  \n",
              "4                                  0  "
            ],
            "text/html": [
              "\n",
              "  <div id=\"df-97ac1bed-743b-4f50-baf4-05e5fdb218bf\">\n",
              "    <div class=\"colab-df-container\">\n",
              "      <div>\n",
              "<style scoped>\n",
              "    .dataframe tbody tr th:only-of-type {\n",
              "        vertical-align: middle;\n",
              "    }\n",
              "\n",
              "    .dataframe tbody tr th {\n",
              "        vertical-align: top;\n",
              "    }\n",
              "\n",
              "    .dataframe thead th {\n",
              "        text-align: right;\n",
              "    }\n",
              "</style>\n",
              "<table border=\"1\" class=\"dataframe\">\n",
              "  <thead>\n",
              "    <tr style=\"text-align: right;\">\n",
              "      <th></th>\n",
              "      <th>title</th>\n",
              "      <th>year</th>\n",
              "      <th>rating</th>\n",
              "      <th>genre</th>\n",
              "      <th>director</th>\n",
              "      <th>director get a golden globes ?</th>\n",
              "      <th>actor</th>\n",
              "      <th>how many famous actors are in it?</th>\n",
              "    </tr>\n",
              "  </thead>\n",
              "  <tbody>\n",
              "    <tr>\n",
              "      <th>0</th>\n",
              "      <td>The Shawshank Redemption</td>\n",
              "      <td>1994</td>\n",
              "      <td>9.2</td>\n",
              "      <td>Drama</td>\n",
              "      <td>Frank Darabont</td>\n",
              "      <td>[no]</td>\n",
              "      <td>[Morgan Freeman]</td>\n",
              "      <td>1</td>\n",
              "    </tr>\n",
              "    <tr>\n",
              "      <th>1</th>\n",
              "      <td>The Godfather</td>\n",
              "      <td>1972</td>\n",
              "      <td>9.2</td>\n",
              "      <td>Crime</td>\n",
              "      <td>Francis Ford Coppola</td>\n",
              "      <td>[yes]</td>\n",
              "      <td>[Al Pacino]</td>\n",
              "      <td>1</td>\n",
              "    </tr>\n",
              "    <tr>\n",
              "      <th>2</th>\n",
              "      <td>The Dark Knight</td>\n",
              "      <td>2008</td>\n",
              "      <td>9.0</td>\n",
              "      <td>Action</td>\n",
              "      <td>Christopher Nolan</td>\n",
              "      <td>[no]</td>\n",
              "      <td>[Christian Bale, Gary Oldman, Morgan Freeman, ...</td>\n",
              "      <td>4</td>\n",
              "    </tr>\n",
              "    <tr>\n",
              "      <th>3</th>\n",
              "      <td>The Godfather Part II</td>\n",
              "      <td>1974</td>\n",
              "      <td>9.0</td>\n",
              "      <td>Crime</td>\n",
              "      <td>Francis Ford Coppola</td>\n",
              "      <td>[yes]</td>\n",
              "      <td>[Al Pacino, Robert De Niro]</td>\n",
              "      <td>2</td>\n",
              "    </tr>\n",
              "    <tr>\n",
              "      <th>4</th>\n",
              "      <td>12 Angry Men</td>\n",
              "      <td>1957</td>\n",
              "      <td>9.0</td>\n",
              "      <td>Crime</td>\n",
              "      <td>Sidney Lumet</td>\n",
              "      <td>[yes]</td>\n",
              "      <td>[]</td>\n",
              "      <td>0</td>\n",
              "    </tr>\n",
              "  </tbody>\n",
              "</table>\n",
              "</div>\n",
              "      <button class=\"colab-df-convert\" onclick=\"convertToInteractive('df-97ac1bed-743b-4f50-baf4-05e5fdb218bf')\"\n",
              "              title=\"Convert this dataframe to an interactive table.\"\n",
              "              style=\"display:none;\">\n",
              "        \n",
              "  <svg xmlns=\"http://www.w3.org/2000/svg\" height=\"24px\"viewBox=\"0 0 24 24\"\n",
              "       width=\"24px\">\n",
              "    <path d=\"M0 0h24v24H0V0z\" fill=\"none\"/>\n",
              "    <path d=\"M18.56 5.44l.94 2.06.94-2.06 2.06-.94-2.06-.94-.94-2.06-.94 2.06-2.06.94zm-11 1L8.5 8.5l.94-2.06 2.06-.94-2.06-.94L8.5 2.5l-.94 2.06-2.06.94zm10 10l.94 2.06.94-2.06 2.06-.94-2.06-.94-.94-2.06-.94 2.06-2.06.94z\"/><path d=\"M17.41 7.96l-1.37-1.37c-.4-.4-.92-.59-1.43-.59-.52 0-1.04.2-1.43.59L10.3 9.45l-7.72 7.72c-.78.78-.78 2.05 0 2.83L4 21.41c.39.39.9.59 1.41.59.51 0 1.02-.2 1.41-.59l7.78-7.78 2.81-2.81c.8-.78.8-2.07 0-2.86zM5.41 20L4 18.59l7.72-7.72 1.47 1.35L5.41 20z\"/>\n",
              "  </svg>\n",
              "      </button>\n",
              "      \n",
              "  <style>\n",
              "    .colab-df-container {\n",
              "      display:flex;\n",
              "      flex-wrap:wrap;\n",
              "      gap: 12px;\n",
              "    }\n",
              "\n",
              "    .colab-df-convert {\n",
              "      background-color: #E8F0FE;\n",
              "      border: none;\n",
              "      border-radius: 50%;\n",
              "      cursor: pointer;\n",
              "      display: none;\n",
              "      fill: #1967D2;\n",
              "      height: 32px;\n",
              "      padding: 0 0 0 0;\n",
              "      width: 32px;\n",
              "    }\n",
              "\n",
              "    .colab-df-convert:hover {\n",
              "      background-color: #E2EBFA;\n",
              "      box-shadow: 0px 1px 2px rgba(60, 64, 67, 0.3), 0px 1px 3px 1px rgba(60, 64, 67, 0.15);\n",
              "      fill: #174EA6;\n",
              "    }\n",
              "\n",
              "    [theme=dark] .colab-df-convert {\n",
              "      background-color: #3B4455;\n",
              "      fill: #D2E3FC;\n",
              "    }\n",
              "\n",
              "    [theme=dark] .colab-df-convert:hover {\n",
              "      background-color: #434B5C;\n",
              "      box-shadow: 0px 1px 3px 1px rgba(0, 0, 0, 0.15);\n",
              "      filter: drop-shadow(0px 1px 2px rgba(0, 0, 0, 0.3));\n",
              "      fill: #FFFFFF;\n",
              "    }\n",
              "  </style>\n",
              "\n",
              "      <script>\n",
              "        const buttonEl =\n",
              "          document.querySelector('#df-97ac1bed-743b-4f50-baf4-05e5fdb218bf button.colab-df-convert');\n",
              "        buttonEl.style.display =\n",
              "          google.colab.kernel.accessAllowed ? 'block' : 'none';\n",
              "\n",
              "        async function convertToInteractive(key) {\n",
              "          const element = document.querySelector('#df-97ac1bed-743b-4f50-baf4-05e5fdb218bf');\n",
              "          const dataTable =\n",
              "            await google.colab.kernel.invokeFunction('convertToInteractive',\n",
              "                                                     [key], {});\n",
              "          if (!dataTable) return;\n",
              "\n",
              "          const docLinkHtml = 'Like what you see? Visit the ' +\n",
              "            '<a target=\"_blank\" href=https://colab.research.google.com/notebooks/data_table.ipynb>data table notebook</a>'\n",
              "            + ' to learn more about interactive tables.';\n",
              "          element.innerHTML = '';\n",
              "          dataTable['output_type'] = 'display_data';\n",
              "          await google.colab.output.renderOutput(dataTable, element);\n",
              "          const docLink = document.createElement('div');\n",
              "          docLink.innerHTML = docLinkHtml;\n",
              "          element.appendChild(docLink);\n",
              "        }\n",
              "      </script>\n",
              "    </div>\n",
              "  </div>\n",
              "  "
            ]
          },
          "metadata": {},
          "execution_count": 15
        }
      ]
    },
    {
      "cell_type": "markdown",
      "source": [
        "**regression linear**"
      ],
      "metadata": {
        "id": "2iIqCRAVUiI-"
      }
    },
    {
      "cell_type": "code",
      "source": [
        "from bs4 import BeautifulSoup\n",
        "import requests\n",
        "from pprint import pprint\n",
        "from urllib.request import Request, urlopen\n",
        "from sklearn.linear_model import LinearRegression\n",
        "from sklearn.preprocessing import LabelEncoder, OneHotEncoder\n",
        "from sklearn.compose import ColumnTransformer\n",
        "import pandas as pd"
      ],
      "metadata": {
        "id": "HTK0SvSQUh2E"
      },
      "execution_count": null,
      "outputs": []
    },
    {
      "cell_type": "code",
      "source": [
        "# Encoder les variables catégorielles (genre) en variables numériques\n",
        "label_encoder = LabelEncoder()\n",
        "df['genre_encoded'] = label_encoder.fit_transform(df['genre'])"
      ],
      "metadata": {
        "colab": {
          "base_uri": "https://localhost:8080/",
          "height": 337
        },
        "id": "UUfi5d0yU0wq",
        "outputId": "16e9a01e-caa7-4f5e-d9f5-986f8bc00dd1"
      },
      "execution_count": null,
      "outputs": [
        {
          "output_type": "execute_result",
          "data": {
            "text/plain": [
              "                      title  year  rating   genre              director  \\\n",
              "0  The Shawshank Redemption  1994     9.2   Drama        Frank Darabont   \n",
              "1             The Godfather  1972     9.2   Crime  Francis Ford Coppola   \n",
              "2           The Dark Knight  2008     9.0  Action     Christopher Nolan   \n",
              "3     The Godfather Part II  1974     9.0   Crime  Francis Ford Coppola   \n",
              "4              12 Angry Men  1957     9.0   Crime          Sidney Lumet   \n",
              "\n",
              "  director get a golden globes ?  \\\n",
              "0                           [no]   \n",
              "1                          [yes]   \n",
              "2                           [no]   \n",
              "3                          [yes]   \n",
              "4                          [yes]   \n",
              "\n",
              "                                               actor  \\\n",
              "0                                   [Morgan Freeman]   \n",
              "1                                        [Al Pacino]   \n",
              "2  [Christian Bale, Gary Oldman, Morgan Freeman, ...   \n",
              "3                        [Al Pacino, Robert De Niro]   \n",
              "4                                                 []   \n",
              "\n",
              "   how many famous actors are in it?  genre_encoded  \n",
              "0                                  1              6  \n",
              "1                                  1              5  \n",
              "2                                  4              0  \n",
              "3                                  2              5  \n",
              "4                                  0              5  "
            ],
            "text/html": [
              "\n",
              "  <div id=\"df-992fbee5-09ee-47f2-bc41-bbdd111148c9\">\n",
              "    <div class=\"colab-df-container\">\n",
              "      <div>\n",
              "<style scoped>\n",
              "    .dataframe tbody tr th:only-of-type {\n",
              "        vertical-align: middle;\n",
              "    }\n",
              "\n",
              "    .dataframe tbody tr th {\n",
              "        vertical-align: top;\n",
              "    }\n",
              "\n",
              "    .dataframe thead th {\n",
              "        text-align: right;\n",
              "    }\n",
              "</style>\n",
              "<table border=\"1\" class=\"dataframe\">\n",
              "  <thead>\n",
              "    <tr style=\"text-align: right;\">\n",
              "      <th></th>\n",
              "      <th>title</th>\n",
              "      <th>year</th>\n",
              "      <th>rating</th>\n",
              "      <th>genre</th>\n",
              "      <th>director</th>\n",
              "      <th>director get a golden globes ?</th>\n",
              "      <th>actor</th>\n",
              "      <th>how many famous actors are in it?</th>\n",
              "      <th>genre_encoded</th>\n",
              "    </tr>\n",
              "  </thead>\n",
              "  <tbody>\n",
              "    <tr>\n",
              "      <th>0</th>\n",
              "      <td>The Shawshank Redemption</td>\n",
              "      <td>1994</td>\n",
              "      <td>9.2</td>\n",
              "      <td>Drama</td>\n",
              "      <td>Frank Darabont</td>\n",
              "      <td>[no]</td>\n",
              "      <td>[Morgan Freeman]</td>\n",
              "      <td>1</td>\n",
              "      <td>6</td>\n",
              "    </tr>\n",
              "    <tr>\n",
              "      <th>1</th>\n",
              "      <td>The Godfather</td>\n",
              "      <td>1972</td>\n",
              "      <td>9.2</td>\n",
              "      <td>Crime</td>\n",
              "      <td>Francis Ford Coppola</td>\n",
              "      <td>[yes]</td>\n",
              "      <td>[Al Pacino]</td>\n",
              "      <td>1</td>\n",
              "      <td>5</td>\n",
              "    </tr>\n",
              "    <tr>\n",
              "      <th>2</th>\n",
              "      <td>The Dark Knight</td>\n",
              "      <td>2008</td>\n",
              "      <td>9.0</td>\n",
              "      <td>Action</td>\n",
              "      <td>Christopher Nolan</td>\n",
              "      <td>[no]</td>\n",
              "      <td>[Christian Bale, Gary Oldman, Morgan Freeman, ...</td>\n",
              "      <td>4</td>\n",
              "      <td>0</td>\n",
              "    </tr>\n",
              "    <tr>\n",
              "      <th>3</th>\n",
              "      <td>The Godfather Part II</td>\n",
              "      <td>1974</td>\n",
              "      <td>9.0</td>\n",
              "      <td>Crime</td>\n",
              "      <td>Francis Ford Coppola</td>\n",
              "      <td>[yes]</td>\n",
              "      <td>[Al Pacino, Robert De Niro]</td>\n",
              "      <td>2</td>\n",
              "      <td>5</td>\n",
              "    </tr>\n",
              "    <tr>\n",
              "      <th>4</th>\n",
              "      <td>12 Angry Men</td>\n",
              "      <td>1957</td>\n",
              "      <td>9.0</td>\n",
              "      <td>Crime</td>\n",
              "      <td>Sidney Lumet</td>\n",
              "      <td>[yes]</td>\n",
              "      <td>[]</td>\n",
              "      <td>0</td>\n",
              "      <td>5</td>\n",
              "    </tr>\n",
              "  </tbody>\n",
              "</table>\n",
              "</div>\n",
              "      <button class=\"colab-df-convert\" onclick=\"convertToInteractive('df-992fbee5-09ee-47f2-bc41-bbdd111148c9')\"\n",
              "              title=\"Convert this dataframe to an interactive table.\"\n",
              "              style=\"display:none;\">\n",
              "        \n",
              "  <svg xmlns=\"http://www.w3.org/2000/svg\" height=\"24px\"viewBox=\"0 0 24 24\"\n",
              "       width=\"24px\">\n",
              "    <path d=\"M0 0h24v24H0V0z\" fill=\"none\"/>\n",
              "    <path d=\"M18.56 5.44l.94 2.06.94-2.06 2.06-.94-2.06-.94-.94-2.06-.94 2.06-2.06.94zm-11 1L8.5 8.5l.94-2.06 2.06-.94-2.06-.94L8.5 2.5l-.94 2.06-2.06.94zm10 10l.94 2.06.94-2.06 2.06-.94-2.06-.94-.94-2.06-.94 2.06-2.06.94z\"/><path d=\"M17.41 7.96l-1.37-1.37c-.4-.4-.92-.59-1.43-.59-.52 0-1.04.2-1.43.59L10.3 9.45l-7.72 7.72c-.78.78-.78 2.05 0 2.83L4 21.41c.39.39.9.59 1.41.59.51 0 1.02-.2 1.41-.59l7.78-7.78 2.81-2.81c.8-.78.8-2.07 0-2.86zM5.41 20L4 18.59l7.72-7.72 1.47 1.35L5.41 20z\"/>\n",
              "  </svg>\n",
              "      </button>\n",
              "      \n",
              "  <style>\n",
              "    .colab-df-container {\n",
              "      display:flex;\n",
              "      flex-wrap:wrap;\n",
              "      gap: 12px;\n",
              "    }\n",
              "\n",
              "    .colab-df-convert {\n",
              "      background-color: #E8F0FE;\n",
              "      border: none;\n",
              "      border-radius: 50%;\n",
              "      cursor: pointer;\n",
              "      display: none;\n",
              "      fill: #1967D2;\n",
              "      height: 32px;\n",
              "      padding: 0 0 0 0;\n",
              "      width: 32px;\n",
              "    }\n",
              "\n",
              "    .colab-df-convert:hover {\n",
              "      background-color: #E2EBFA;\n",
              "      box-shadow: 0px 1px 2px rgba(60, 64, 67, 0.3), 0px 1px 3px 1px rgba(60, 64, 67, 0.15);\n",
              "      fill: #174EA6;\n",
              "    }\n",
              "\n",
              "    [theme=dark] .colab-df-convert {\n",
              "      background-color: #3B4455;\n",
              "      fill: #D2E3FC;\n",
              "    }\n",
              "\n",
              "    [theme=dark] .colab-df-convert:hover {\n",
              "      background-color: #434B5C;\n",
              "      box-shadow: 0px 1px 3px 1px rgba(0, 0, 0, 0.15);\n",
              "      filter: drop-shadow(0px 1px 2px rgba(0, 0, 0, 0.3));\n",
              "      fill: #FFFFFF;\n",
              "    }\n",
              "  </style>\n",
              "\n",
              "      <script>\n",
              "        const buttonEl =\n",
              "          document.querySelector('#df-992fbee5-09ee-47f2-bc41-bbdd111148c9 button.colab-df-convert');\n",
              "        buttonEl.style.display =\n",
              "          google.colab.kernel.accessAllowed ? 'block' : 'none';\n",
              "\n",
              "        async function convertToInteractive(key) {\n",
              "          const element = document.querySelector('#df-992fbee5-09ee-47f2-bc41-bbdd111148c9');\n",
              "          const dataTable =\n",
              "            await google.colab.kernel.invokeFunction('convertToInteractive',\n",
              "                                                     [key], {});\n",
              "          if (!dataTable) return;\n",
              "\n",
              "          const docLinkHtml = 'Like what you see? Visit the ' +\n",
              "            '<a target=\"_blank\" href=https://colab.research.google.com/notebooks/data_table.ipynb>data table notebook</a>'\n",
              "            + ' to learn more about interactive tables.';\n",
              "          element.innerHTML = '';\n",
              "          dataTable['output_type'] = 'display_data';\n",
              "          await google.colab.output.renderOutput(dataTable, element);\n",
              "          const docLink = document.createElement('div');\n",
              "          docLink.innerHTML = docLinkHtml;\n",
              "          element.appendChild(docLink);\n",
              "        }\n",
              "      </script>\n",
              "    </div>\n",
              "  </div>\n",
              "  "
            ]
          },
          "metadata": {},
          "execution_count": 44
        }
      ]
    },
    {
      "cell_type": "code",
      "source": [
        "# Préparer les variables d'entrée (features) et de sortie (target)\n",
        "X = df[['director get a golden globes ?', 'how many famous actors are in it?', 'genre_encoded']]\n",
        "y = df['rating']"
      ],
      "metadata": {
        "id": "JiqkPEKCU4rM"
      },
      "execution_count": null,
      "outputs": []
    },
    {
      "cell_type": "code",
      "source": [
        "# Encoder la variable binaire 'director get a golden globes ?' en variable numérique\n",
        "X['director_get_gg_encoded'] = X['director get a golden globes ?'].map({'yes': 1, 'no': 0})"
      ],
      "metadata": {
        "colab": {
          "base_uri": "https://localhost:8080/"
        },
        "id": "es0cJs8iU6JP",
        "outputId": "70653e7d-ea4e-4f32-d9f4-5a78c8fc9d83"
      },
      "execution_count": null,
      "outputs": [
        {
          "output_type": "stream",
          "name": "stderr",
          "text": [
            "<ipython-input-32-14393b2a2b3d>:2: SettingWithCopyWarning: \n",
            "A value is trying to be set on a copy of a slice from a DataFrame.\n",
            "Try using .loc[row_indexer,col_indexer] = value instead\n",
            "\n",
            "See the caveats in the documentation: https://pandas.pydata.org/pandas-docs/stable/user_guide/indexing.html#returning-a-view-versus-a-copy\n",
            "  X['director_get_gg_encoded'] = X['director get a golden globes ?'].map({'yes': 1, 'no': 0})\n"
          ]
        }
      ]
    },
    {
      "cell_type": "code",
      "source": [
        "# Supprimer la colonne originale 'director get a golden globes ?'\n",
        "X.drop('director get a golden globes ?', axis=1, inplace=True)"
      ],
      "metadata": {
        "colab": {
          "base_uri": "https://localhost:8080/"
        },
        "id": "WmHSmNh-VTBG",
        "outputId": "c8494ab7-4a5f-407a-9d50-72a81492ba3f"
      },
      "execution_count": null,
      "outputs": [
        {
          "output_type": "stream",
          "name": "stderr",
          "text": [
            "<ipython-input-33-bd3619b0e3ea>:2: SettingWithCopyWarning: \n",
            "A value is trying to be set on a copy of a slice from a DataFrame\n",
            "\n",
            "See the caveats in the documentation: https://pandas.pydata.org/pandas-docs/stable/user_guide/indexing.html#returning-a-view-versus-a-copy\n",
            "  X.drop('director get a golden globes ?', axis=1, inplace=True)\n"
          ]
        }
      ]
    },
    {
      "cell_type": "code",
      "source": [
        "# Effectuer un encodage one-hot pour la variable catégorielle 'genre_encoded', Cela permet de traiter les différentes catégories de genre comme des variables distinctes\n",
        "ct = ColumnTransformer(transformers=[('encoder', OneHotEncoder(), ['genre_encoded'])], remainder='passthrough')\n",
        "X_encoded = ct.fit_transform(X)"
      ],
      "metadata": {
        "id": "RUlBjvIJVWs5"
      },
      "execution_count": null,
      "outputs": []
    },
    {
      "cell_type": "code",
      "source": [
        "# Créer un modèle de régression linéaire\n",
        "model = LinearRegression()\n",
        "\n",
        "# Entraîner le modèle\n",
        "model.fit(X_encoded, y)"
      ],
      "metadata": {
        "colab": {
          "base_uri": "https://localhost:8080/",
          "height": 75
        },
        "id": "T7yhbJkfVZdk",
        "outputId": "d4435c04-3b6b-4bc7-dc30-409cf5d47862"
      },
      "execution_count": null,
      "outputs": [
        {
          "output_type": "execute_result",
          "data": {
            "text/plain": [
              "LinearRegression()"
            ],
            "text/html": [
              "<style>#sk-container-id-2 {color: black;background-color: white;}#sk-container-id-2 pre{padding: 0;}#sk-container-id-2 div.sk-toggleable {background-color: white;}#sk-container-id-2 label.sk-toggleable__label {cursor: pointer;display: block;width: 100%;margin-bottom: 0;padding: 0.3em;box-sizing: border-box;text-align: center;}#sk-container-id-2 label.sk-toggleable__label-arrow:before {content: \"▸\";float: left;margin-right: 0.25em;color: #696969;}#sk-container-id-2 label.sk-toggleable__label-arrow:hover:before {color: black;}#sk-container-id-2 div.sk-estimator:hover label.sk-toggleable__label-arrow:before {color: black;}#sk-container-id-2 div.sk-toggleable__content {max-height: 0;max-width: 0;overflow: hidden;text-align: left;background-color: #f0f8ff;}#sk-container-id-2 div.sk-toggleable__content pre {margin: 0.2em;color: black;border-radius: 0.25em;background-color: #f0f8ff;}#sk-container-id-2 input.sk-toggleable__control:checked~div.sk-toggleable__content {max-height: 200px;max-width: 100%;overflow: auto;}#sk-container-id-2 input.sk-toggleable__control:checked~label.sk-toggleable__label-arrow:before {content: \"▾\";}#sk-container-id-2 div.sk-estimator input.sk-toggleable__control:checked~label.sk-toggleable__label {background-color: #d4ebff;}#sk-container-id-2 div.sk-label input.sk-toggleable__control:checked~label.sk-toggleable__label {background-color: #d4ebff;}#sk-container-id-2 input.sk-hidden--visually {border: 0;clip: rect(1px 1px 1px 1px);clip: rect(1px, 1px, 1px, 1px);height: 1px;margin: -1px;overflow: hidden;padding: 0;position: absolute;width: 1px;}#sk-container-id-2 div.sk-estimator {font-family: monospace;background-color: #f0f8ff;border: 1px dotted black;border-radius: 0.25em;box-sizing: border-box;margin-bottom: 0.5em;}#sk-container-id-2 div.sk-estimator:hover {background-color: #d4ebff;}#sk-container-id-2 div.sk-parallel-item::after {content: \"\";width: 100%;border-bottom: 1px solid gray;flex-grow: 1;}#sk-container-id-2 div.sk-label:hover label.sk-toggleable__label {background-color: #d4ebff;}#sk-container-id-2 div.sk-serial::before {content: \"\";position: absolute;border-left: 1px solid gray;box-sizing: border-box;top: 0;bottom: 0;left: 50%;z-index: 0;}#sk-container-id-2 div.sk-serial {display: flex;flex-direction: column;align-items: center;background-color: white;padding-right: 0.2em;padding-left: 0.2em;position: relative;}#sk-container-id-2 div.sk-item {position: relative;z-index: 1;}#sk-container-id-2 div.sk-parallel {display: flex;align-items: stretch;justify-content: center;background-color: white;position: relative;}#sk-container-id-2 div.sk-item::before, #sk-container-id-2 div.sk-parallel-item::before {content: \"\";position: absolute;border-left: 1px solid gray;box-sizing: border-box;top: 0;bottom: 0;left: 50%;z-index: -1;}#sk-container-id-2 div.sk-parallel-item {display: flex;flex-direction: column;z-index: 1;position: relative;background-color: white;}#sk-container-id-2 div.sk-parallel-item:first-child::after {align-self: flex-end;width: 50%;}#sk-container-id-2 div.sk-parallel-item:last-child::after {align-self: flex-start;width: 50%;}#sk-container-id-2 div.sk-parallel-item:only-child::after {width: 0;}#sk-container-id-2 div.sk-dashed-wrapped {border: 1px dashed gray;margin: 0 0.4em 0.5em 0.4em;box-sizing: border-box;padding-bottom: 0.4em;background-color: white;}#sk-container-id-2 div.sk-label label {font-family: monospace;font-weight: bold;display: inline-block;line-height: 1.2em;}#sk-container-id-2 div.sk-label-container {text-align: center;}#sk-container-id-2 div.sk-container {/* jupyter's `normalize.less` sets `[hidden] { display: none; }` but bootstrap.min.css set `[hidden] { display: none !important; }` so we also need the `!important` here to be able to override the default hidden behavior on the sphinx rendered scikit-learn.org. See: https://github.com/scikit-learn/scikit-learn/issues/21755 */display: inline-block !important;position: relative;}#sk-container-id-2 div.sk-text-repr-fallback {display: none;}</style><div id=\"sk-container-id-2\" class=\"sk-top-container\"><div class=\"sk-text-repr-fallback\"><pre>LinearRegression()</pre><b>In a Jupyter environment, please rerun this cell to show the HTML representation or trust the notebook. <br />On GitHub, the HTML representation is unable to render, please try loading this page with nbviewer.org.</b></div><div class=\"sk-container\" hidden><div class=\"sk-item\"><div class=\"sk-estimator sk-toggleable\"><input class=\"sk-toggleable__control sk-hidden--visually\" id=\"sk-estimator-id-2\" type=\"checkbox\" checked><label for=\"sk-estimator-id-2\" class=\"sk-toggleable__label sk-toggleable__label-arrow\">LinearRegression</label><div class=\"sk-toggleable__content\"><pre>LinearRegression()</pre></div></div></div></div></div>"
            ]
          },
          "metadata": {},
          "execution_count": 35
        }
      ]
    },
    {
      "cell_type": "code",
      "source": [
        "# Prédire le rating pour de nouvelles données\n",
        "new_data = pd.DataFrame({\n",
        "    'director get a golden globes ?': ['yes'],\n",
        "    'how many famous actors are in it?': [3],\n",
        "    'genre_encoded': [2]  # Valeur encodée correspondant au genre du film\n",
        "})\n"
      ],
      "metadata": {
        "id": "CgEveV8fVbZC"
      },
      "execution_count": null,
      "outputs": []
    },
    {
      "cell_type": "code",
      "source": [
        "# Encoder les nouvelles données de la même manière que les données d'entraînement\n",
        "new_data['director_get_gg_encoded'] = new_data['director get a golden globes ?'].map({'yes': 1, 'no': 0})\n",
        "new_data.drop('director get a golden globes ?', axis=1, inplace=True)\n",
        "new_data_encoded = ct.transform(new_data)\n"
      ],
      "metadata": {
        "id": "CnvLmmKrVg2w"
      },
      "execution_count": null,
      "outputs": []
    },
    {
      "cell_type": "code",
      "source": [
        "# Prédire le rating pour les nouvelles données\n",
        "predicted_ratings = model.predict(new_data_encoded)"
      ],
      "metadata": {
        "id": "yz9P2VBAVjIh"
      },
      "execution_count": null,
      "outputs": []
    },
    {
      "cell_type": "code",
      "source": [
        "# Afficher les prédictions\n",
        "print(predicted_ratings)"
      ],
      "metadata": {
        "colab": {
          "base_uri": "https://localhost:8080/"
        },
        "id": "7NlNLqdeVkb1",
        "outputId": "d0d74f53-d07b-48f8-89cf-af9c55f73619"
      },
      "execution_count": null,
      "outputs": [
        {
          "output_type": "stream",
          "name": "stdout",
          "text": [
            "[8.35881533]\n"
          ]
        }
      ]
    },
    {
      "cell_type": "markdown",
      "source": [
        "**prediction sorties**"
      ],
      "metadata": {
        "id": "utM48gUHaZTd"
      }
    },
    {
      "cell_type": "code",
      "source": [
        "df_sorties.head()"
      ],
      "metadata": {
        "colab": {
          "base_uri": "https://localhost:8080/",
          "height": 206
        },
        "id": "V2B0_SacaZBw",
        "outputId": "b9411b4d-9f13-4c7d-de7d-831e9da1089c"
      },
      "execution_count": null,
      "outputs": [
        {
          "output_type": "execute_result",
          "data": {
            "text/plain": [
              "                                        title      genre            director  \\\n",
              "0  Spider-Man: Across the Spider-Verse (2023)  Animation  Joaquim Dos Santos   \n",
              "1                        The Boogeyman (2023)     Horror          Rob Savage   \n",
              "2                    To Catch a Killer (2023)     Action      Damián Szifron   \n",
              "3     Transformers: Rise of the Beasts (2023)     Action    Steven Caple Jr.   \n",
              "4                               Strays (2023)  Animation      Josh Greenbaum   \n",
              "\n",
              "  director get a golden globes ?               actor  \\\n",
              "0                           [no]       [Oscar Isaac]   \n",
              "1                           [no]                  []   \n",
              "2                           [no]  [Shailene Woodley]   \n",
              "3                           [no]                  []   \n",
              "4                           [no]                  []   \n",
              "\n",
              "   how many famous actors are in it?  \n",
              "0                                  1  \n",
              "1                                  1  \n",
              "2                                  1  \n",
              "3                                  1  \n",
              "4                                  1  "
            ],
            "text/html": [
              "\n",
              "  <div id=\"df-d0d4e1fb-edf7-4d51-9d6d-a520859f71a5\">\n",
              "    <div class=\"colab-df-container\">\n",
              "      <div>\n",
              "<style scoped>\n",
              "    .dataframe tbody tr th:only-of-type {\n",
              "        vertical-align: middle;\n",
              "    }\n",
              "\n",
              "    .dataframe tbody tr th {\n",
              "        vertical-align: top;\n",
              "    }\n",
              "\n",
              "    .dataframe thead th {\n",
              "        text-align: right;\n",
              "    }\n",
              "</style>\n",
              "<table border=\"1\" class=\"dataframe\">\n",
              "  <thead>\n",
              "    <tr style=\"text-align: right;\">\n",
              "      <th></th>\n",
              "      <th>title</th>\n",
              "      <th>genre</th>\n",
              "      <th>director</th>\n",
              "      <th>director get a golden globes ?</th>\n",
              "      <th>actor</th>\n",
              "      <th>how many famous actors are in it?</th>\n",
              "    </tr>\n",
              "  </thead>\n",
              "  <tbody>\n",
              "    <tr>\n",
              "      <th>0</th>\n",
              "      <td>Spider-Man: Across the Spider-Verse (2023)</td>\n",
              "      <td>Animation</td>\n",
              "      <td>Joaquim Dos Santos</td>\n",
              "      <td>[no]</td>\n",
              "      <td>[Oscar Isaac]</td>\n",
              "      <td>1</td>\n",
              "    </tr>\n",
              "    <tr>\n",
              "      <th>1</th>\n",
              "      <td>The Boogeyman (2023)</td>\n",
              "      <td>Horror</td>\n",
              "      <td>Rob Savage</td>\n",
              "      <td>[no]</td>\n",
              "      <td>[]</td>\n",
              "      <td>1</td>\n",
              "    </tr>\n",
              "    <tr>\n",
              "      <th>2</th>\n",
              "      <td>To Catch a Killer (2023)</td>\n",
              "      <td>Action</td>\n",
              "      <td>Damián Szifron</td>\n",
              "      <td>[no]</td>\n",
              "      <td>[Shailene Woodley]</td>\n",
              "      <td>1</td>\n",
              "    </tr>\n",
              "    <tr>\n",
              "      <th>3</th>\n",
              "      <td>Transformers: Rise of the Beasts (2023)</td>\n",
              "      <td>Action</td>\n",
              "      <td>Steven Caple Jr.</td>\n",
              "      <td>[no]</td>\n",
              "      <td>[]</td>\n",
              "      <td>1</td>\n",
              "    </tr>\n",
              "    <tr>\n",
              "      <th>4</th>\n",
              "      <td>Strays (2023)</td>\n",
              "      <td>Animation</td>\n",
              "      <td>Josh Greenbaum</td>\n",
              "      <td>[no]</td>\n",
              "      <td>[]</td>\n",
              "      <td>1</td>\n",
              "    </tr>\n",
              "  </tbody>\n",
              "</table>\n",
              "</div>\n",
              "      <button class=\"colab-df-convert\" onclick=\"convertToInteractive('df-d0d4e1fb-edf7-4d51-9d6d-a520859f71a5')\"\n",
              "              title=\"Convert this dataframe to an interactive table.\"\n",
              "              style=\"display:none;\">\n",
              "        \n",
              "  <svg xmlns=\"http://www.w3.org/2000/svg\" height=\"24px\"viewBox=\"0 0 24 24\"\n",
              "       width=\"24px\">\n",
              "    <path d=\"M0 0h24v24H0V0z\" fill=\"none\"/>\n",
              "    <path d=\"M18.56 5.44l.94 2.06.94-2.06 2.06-.94-2.06-.94-.94-2.06-.94 2.06-2.06.94zm-11 1L8.5 8.5l.94-2.06 2.06-.94-2.06-.94L8.5 2.5l-.94 2.06-2.06.94zm10 10l.94 2.06.94-2.06 2.06-.94-2.06-.94-.94-2.06-.94 2.06-2.06.94z\"/><path d=\"M17.41 7.96l-1.37-1.37c-.4-.4-.92-.59-1.43-.59-.52 0-1.04.2-1.43.59L10.3 9.45l-7.72 7.72c-.78.78-.78 2.05 0 2.83L4 21.41c.39.39.9.59 1.41.59.51 0 1.02-.2 1.41-.59l7.78-7.78 2.81-2.81c.8-.78.8-2.07 0-2.86zM5.41 20L4 18.59l7.72-7.72 1.47 1.35L5.41 20z\"/>\n",
              "  </svg>\n",
              "      </button>\n",
              "      \n",
              "  <style>\n",
              "    .colab-df-container {\n",
              "      display:flex;\n",
              "      flex-wrap:wrap;\n",
              "      gap: 12px;\n",
              "    }\n",
              "\n",
              "    .colab-df-convert {\n",
              "      background-color: #E8F0FE;\n",
              "      border: none;\n",
              "      border-radius: 50%;\n",
              "      cursor: pointer;\n",
              "      display: none;\n",
              "      fill: #1967D2;\n",
              "      height: 32px;\n",
              "      padding: 0 0 0 0;\n",
              "      width: 32px;\n",
              "    }\n",
              "\n",
              "    .colab-df-convert:hover {\n",
              "      background-color: #E2EBFA;\n",
              "      box-shadow: 0px 1px 2px rgba(60, 64, 67, 0.3), 0px 1px 3px 1px rgba(60, 64, 67, 0.15);\n",
              "      fill: #174EA6;\n",
              "    }\n",
              "\n",
              "    [theme=dark] .colab-df-convert {\n",
              "      background-color: #3B4455;\n",
              "      fill: #D2E3FC;\n",
              "    }\n",
              "\n",
              "    [theme=dark] .colab-df-convert:hover {\n",
              "      background-color: #434B5C;\n",
              "      box-shadow: 0px 1px 3px 1px rgba(0, 0, 0, 0.15);\n",
              "      filter: drop-shadow(0px 1px 2px rgba(0, 0, 0, 0.3));\n",
              "      fill: #FFFFFF;\n",
              "    }\n",
              "  </style>\n",
              "\n",
              "      <script>\n",
              "        const buttonEl =\n",
              "          document.querySelector('#df-d0d4e1fb-edf7-4d51-9d6d-a520859f71a5 button.colab-df-convert');\n",
              "        buttonEl.style.display =\n",
              "          google.colab.kernel.accessAllowed ? 'block' : 'none';\n",
              "\n",
              "        async function convertToInteractive(key) {\n",
              "          const element = document.querySelector('#df-d0d4e1fb-edf7-4d51-9d6d-a520859f71a5');\n",
              "          const dataTable =\n",
              "            await google.colab.kernel.invokeFunction('convertToInteractive',\n",
              "                                                     [key], {});\n",
              "          if (!dataTable) return;\n",
              "\n",
              "          const docLinkHtml = 'Like what you see? Visit the ' +\n",
              "            '<a target=\"_blank\" href=https://colab.research.google.com/notebooks/data_table.ipynb>data table notebook</a>'\n",
              "            + ' to learn more about interactive tables.';\n",
              "          element.innerHTML = '';\n",
              "          dataTable['output_type'] = 'display_data';\n",
              "          await google.colab.output.renderOutput(dataTable, element);\n",
              "          const docLink = document.createElement('div');\n",
              "          docLink.innerHTML = docLinkHtml;\n",
              "          element.appendChild(docLink);\n",
              "        }\n",
              "      </script>\n",
              "    </div>\n",
              "  </div>\n",
              "  "
            ]
          },
          "metadata": {},
          "execution_count": 57
        }
      ]
    },
    {
      "cell_type": "code",
      "source": [
        "#Encoder la colonne 'genre' en utilisant le LabelEncoder\n",
        "df_sorties['genre_encoded'] = label_encoder.transform(df_sorties['genre'])\n"
      ],
      "metadata": {
        "id": "ttizSRaPbo5m"
      },
      "execution_count": null,
      "outputs": []
    },
    {
      "cell_type": "code",
      "source": [
        "# Préparer les variables d'entrée pour la prédiction\n",
        "X_sorties = df_sorties[['director get a golden globes ?', 'how many famous actors are in it?', 'genre_encoded']]\n"
      ],
      "metadata": {
        "id": "FAj31Yg8cOp0"
      },
      "execution_count": null,
      "outputs": []
    },
    {
      "cell_type": "code",
      "source": [
        "# Encoder la variable binaire 'director get a golden globes ?' en variable numérique\n",
        "X_sorties['director_get_gg_encoded'] = X_sorties['director get a golden globes ?'].apply(lambda x: 1 if len(x) > 0 else 0)"
      ],
      "metadata": {
        "colab": {
          "base_uri": "https://localhost:8080/"
        },
        "id": "Gt6RGIgHcWTr",
        "outputId": "152bc62a-15a6-486a-f616-8c69e3a1fb76"
      },
      "execution_count": null,
      "outputs": [
        {
          "output_type": "stream",
          "name": "stderr",
          "text": [
            "<ipython-input-73-cb24e78bcd39>:2: SettingWithCopyWarning: \n",
            "A value is trying to be set on a copy of a slice from a DataFrame.\n",
            "Try using .loc[row_indexer,col_indexer] = value instead\n",
            "\n",
            "See the caveats in the documentation: https://pandas.pydata.org/pandas-docs/stable/user_guide/indexing.html#returning-a-view-versus-a-copy\n",
            "  X_sorties['director_get_gg_encoded'] = X_sorties['director get a golden globes ?'].apply(lambda x: 1 if len(x) > 0 else 0)\n"
          ]
        }
      ]
    },
    {
      "cell_type": "code",
      "source": [
        "# Supprimer la colonne originale 'director get a golden globes ?'\n",
        "X_sorties.drop('director get a golden globes ?', axis=1, inplace=True)"
      ],
      "metadata": {
        "colab": {
          "base_uri": "https://localhost:8080/"
        },
        "id": "X09fn23eccYD",
        "outputId": "d825c28e-3532-4598-a2c0-5f0777845ae8"
      },
      "execution_count": null,
      "outputs": [
        {
          "output_type": "stream",
          "name": "stderr",
          "text": [
            "<ipython-input-74-336d02463c49>:2: SettingWithCopyWarning: \n",
            "A value is trying to be set on a copy of a slice from a DataFrame\n",
            "\n",
            "See the caveats in the documentation: https://pandas.pydata.org/pandas-docs/stable/user_guide/indexing.html#returning-a-view-versus-a-copy\n",
            "  X_sorties.drop('director get a golden globes ?', axis=1, inplace=True)\n"
          ]
        }
      ]
    },
    {
      "cell_type": "code",
      "source": [
        "# Encoder les variables catégorielles en variables numériques\n",
        "X_sorties_encoded = ct.transform(X_sorties)"
      ],
      "metadata": {
        "id": "Vp7W4SKhc9RX"
      },
      "execution_count": null,
      "outputs": []
    },
    {
      "cell_type": "code",
      "source": [
        "# Prédire le rating pour les nouvelles données\n",
        "predicted_ratings_sorties = model.predict(X_sorties_encoded)"
      ],
      "metadata": {
        "id": "I9qEwqlgdBPS"
      },
      "execution_count": null,
      "outputs": []
    },
    {
      "cell_type": "code",
      "source": [
        "# Ajouter les prédictions au DataFrame 'df_sorties'\n",
        "df_sorties['predicted_rating'] = predicted_ratings_sorties"
      ],
      "metadata": {
        "id": "8D_26mlndFIL"
      },
      "execution_count": null,
      "outputs": []
    },
    {
      "cell_type": "code",
      "source": [
        "# Afficher les résultats\n",
        "print(df_sorties[['title', 'predicted_rating']])"
      ],
      "metadata": {
        "colab": {
          "base_uri": "https://localhost:8080/"
        },
        "id": "3T2yaD_mdHzU",
        "outputId": "ed779d21-295e-483d-a499-1ec22df9f1a4"
      },
      "execution_count": null,
      "outputs": [
        {
          "output_type": "stream",
          "name": "stdout",
          "text": [
            "                                                title  predicted_rating\n",
            "0          Spider-Man: Across the Spider-Verse (2023)          8.314575\n",
            "1                                The Boogeyman (2023)          8.340605\n",
            "2                            To Catch a Killer (2023)          8.353687\n",
            "3             Transformers: Rise of the Beasts (2023)          8.353687\n",
            "4                                       Strays (2023)          8.314575\n",
            "5                                Spinning Gold (2023)          8.270464\n",
            "6                                    The Flash (2023)          8.353687\n",
            "7                              About My Father (2023)          8.296912\n",
            "8                                    Elemental (2023)          8.314575\n",
            "9                                Asteroid City (2023)          8.296912\n",
            "10                            No Hard Feelings (2023)          8.296912\n",
            "11       Indiana Jones and the Dial of Destiny (2023)          8.353687\n",
            "12                Ruby Gillman, Teenage Kraken (2023)          8.314575\n",
            "13                Harold and the Purple Crayon (2023)          8.314575\n",
            "14                     Insidious: The Red Door (2023)          8.340605\n",
            "15  Mission: Impossible - Dead Reckoning Part One ...          8.353687\n",
            "16                            The Last Warrior (2021)          8.314575\n",
            "17                                 Oppenheimer (2023)          8.270464\n",
            "18                                      Barbie (2023)          8.247797\n",
            "19                              Coyote v. Acme (2023)          8.314575\n",
            "20                             Haunted Mansion (2023)          8.296912\n",
            "21                   How to Blow Up a Pipeline (2022)          8.411425\n",
            "22                       The Meg 2: The Trench (2023)          8.353687\n",
            "23  Teenage Mutant Ninja Turtles: Mutant Mayhem (2...          8.314575\n",
            "24                                Gran Turismo (2023)          8.353687\n",
            "25                            The Inseparables (2023)          8.314575\n",
            "26                                 Blue Beetle (2023)          8.353687\n",
            "27                             The Equalizer 3 (2023)          8.353687\n",
            "28                  My Big Fat Greek Wedding 3 (2023)          8.296912\n",
            "29                           The Expendables 4 (2023)          8.353687\n",
            "30                                         Wil (2023)          8.309865\n",
            "31                           Kraven the Hunter (2023)          8.353687\n",
            "32                                       Spray (2023)          8.353687\n",
            "33                PAW Patrol: The Mighty Movie (2023)          8.314575\n",
            "34                              Herseye Ragmen (2022)          8.309865\n",
            "35                        Trolls Band Together (2023)          8.314575\n",
            "36                                       Saw X (2023)          8.340605\n",
            "37                              Dune: Part Two (2023)          8.353687\n",
            "38  The Hunger Games: The Ballad of Songbirds and ...          8.353687\n",
            "39                                        Wish (2023)          8.314575\n",
            "40                                   Migration (2023)          8.314575\n",
            "41                                       Wonka (2023)          8.247797\n",
            "42                Aquaman and the Lost Kingdom (2023)          8.353687\n",
            "43                         Ghostbusters Sequel (2023)          8.247797\n",
            "44                                  Night Swim (2024)          8.340605\n",
            "45            Captain America: New World Order (2024)          8.353687\n"
          ]
        }
      ]
    }
  ]
}